{
  "nbformat": 4,
  "nbformat_minor": 0,
  "metadata": {
    "colab": {
      "provenance": [],
      "authorship_tag": "ABX9TyMqi9yANyFsy122QzGY6Htd",
      "include_colab_link": true
    },
    "kernelspec": {
      "name": "python3",
      "display_name": "Python 3"
    },
    "language_info": {
      "name": "python"
    }
  },
  "cells": [
    {
      "cell_type": "markdown",
      "metadata": {
        "id": "view-in-github",
        "colab_type": "text"
      },
      "source": [
        "<a href=\"https://colab.research.google.com/github/RonaldTuna/MW_Exercises/blob/main/ETL2.ipynb\" target=\"_parent\"><img src=\"https://colab.research.google.com/assets/colab-badge.svg\" alt=\"Open In Colab\"/></a>"
      ]
    },
    {
      "cell_type": "markdown",
      "source": [
        "Download Data from links given in exercise\n",
        "\n",
        "HOW TO RUN"
      ],
      "metadata": {
        "id": "hpa5MHXGcCpy"
      }
    },
    {
      "cell_type": "code",
      "source": [
        "#install pyspark\n",
        "try:\n",
        "  %pyspark_version 3.x\n",
        "except Exception:\n",
        "  pass\n",
        "\n",
        "!pip install pyspark\n",
        "!apt-get install openjdk-11-jdk-headless -qq > /dev/null"
      ],
      "metadata": {
        "colab": {
          "base_uri": "https://localhost:8080/"
        },
        "id": "YhheCoBriQxk",
        "outputId": "b982583d-31f6-46af-aa2c-5db47598f925"
      },
      "execution_count": null,
      "outputs": [
        {
          "output_type": "stream",
          "name": "stdout",
          "text": [
            "Looking in indexes: https://pypi.org/simple, https://us-python.pkg.dev/colab-wheels/public/simple/\n",
            "Collecting pyspark\n",
            "  Downloading pyspark-3.3.0.tar.gz (281.3 MB)\n",
            "\u001b[K     |████████████████████████████████| 281.3 MB 46 kB/s \n",
            "\u001b[?25hCollecting py4j==0.10.9.5\n",
            "  Downloading py4j-0.10.9.5-py2.py3-none-any.whl (199 kB)\n",
            "\u001b[K     |████████████████████████████████| 199 kB 24.2 MB/s \n",
            "\u001b[?25hBuilding wheels for collected packages: pyspark\n",
            "  Building wheel for pyspark (setup.py) ... \u001b[?25l\u001b[?25hdone\n",
            "  Created wheel for pyspark: filename=pyspark-3.3.0-py2.py3-none-any.whl size=281764026 sha256=a92a75c12c95d9732fd9f90e3164c3a454e5060f2eb5ec5cbe423ba862b8e6b5\n",
            "  Stored in directory: /root/.cache/pip/wheels/7a/8e/1b/f73a52650d2e5f337708d9f6a1750d451a7349a867f928b885\n",
            "Successfully built pyspark\n",
            "Installing collected packages: py4j, pyspark\n",
            "Successfully installed py4j-0.10.9.5 pyspark-3.3.0\n"
          ]
        }
      ]
    },
    {
      "cell_type": "code",
      "source": [
        "from pyspark.sql import SparkSession\n",
        "from pyspark.sql.functions import *\n",
        "\n",
        "spark = SparkSession.builder\\\n",
        "        .master(\"local[*]\")\\\n",
        "        .appName(\"Test Setup\")\\\n",
        "        .getOrCreate()"
      ],
      "metadata": {
        "id": "Os4_It76ipSW"
      },
      "execution_count": null,
      "outputs": []
    },
    {
      "cell_type": "code",
      "source": [
        "#download data\n",
        "!wget -nc \"https://als-hiring.s3.amazonaws.com/fake_data/2020-07-01_17%3A11%3A00/cons.csv\"\n",
        "!wget -nc \"https://als-hiring.s3.amazonaws.com/fake_data/2020-07-01_17%3A11%3A00/cons_email.csv\"\n",
        "!wget -nc \"https://als-hiring.s3.amazonaws.com/fake_data/2020-07-01_17%3A11%3A00/cons_email_chapter_subscription.csv\""
      ],
      "metadata": {
        "colab": {
          "base_uri": "https://localhost:8080/"
        },
        "id": "5hYvz6qGj0bO",
        "outputId": "f1a1638a-e6de-4a27-8ad1-49dbfcd47ee5"
      },
      "execution_count": null,
      "outputs": [
        {
          "output_type": "stream",
          "name": "stdout",
          "text": [
            "--2022-09-02 18:30:49--  https://als-hiring.s3.amazonaws.com/fake_data/2020-07-01_17%3A11%3A00/cons.csv\n",
            "Resolving als-hiring.s3.amazonaws.com (als-hiring.s3.amazonaws.com)... 52.217.36.244\n",
            "Connecting to als-hiring.s3.amazonaws.com (als-hiring.s3.amazonaws.com)|52.217.36.244|:443... connected.\n",
            "HTTP request sent, awaiting response... 200 OK\n",
            "Length: 146786949 (140M) [text/csv]\n",
            "Saving to: ‘cons.csv’\n",
            "\n",
            "cons.csv            100%[===================>] 139.99M  46.8MB/s    in 3.0s    \n",
            "\n",
            "2022-09-02 18:30:53 (46.8 MB/s) - ‘cons.csv’ saved [146786949/146786949]\n",
            "\n",
            "--2022-09-02 18:30:53--  https://als-hiring.s3.amazonaws.com/fake_data/2020-07-01_17%3A11%3A00/cons_email.csv\n",
            "Resolving als-hiring.s3.amazonaws.com (als-hiring.s3.amazonaws.com)... 52.217.66.124\n",
            "Connecting to als-hiring.s3.amazonaws.com (als-hiring.s3.amazonaws.com)|52.217.66.124|:443... connected.\n",
            "HTTP request sent, awaiting response... 200 OK\n",
            "Length: 219452618 (209M) [text/csv]\n",
            "Saving to: ‘cons_email.csv’\n",
            "\n",
            "cons_email.csv      100%[===================>] 209.29M  51.3MB/s    in 4.1s    \n",
            "\n",
            "2022-09-02 18:30:57 (51.2 MB/s) - ‘cons_email.csv’ saved [219452618/219452618]\n",
            "\n",
            "--2022-09-02 18:30:57--  https://als-hiring.s3.amazonaws.com/fake_data/2020-07-01_17%3A11%3A00/cons_email_chapter_subscription.csv\n",
            "Resolving als-hiring.s3.amazonaws.com (als-hiring.s3.amazonaws.com)... 52.217.66.124\n",
            "Connecting to als-hiring.s3.amazonaws.com (als-hiring.s3.amazonaws.com)|52.217.66.124|:443... connected.\n",
            "HTTP request sent, awaiting response... 200 OK\n",
            "Length: 25033709 (24M) [text/csv]\n",
            "Saving to: ‘cons_email_chapter_subscription.csv’\n",
            "\n",
            "cons_email_chapter_ 100%[===================>]  23.87M  69.3MB/s    in 0.3s    \n",
            "\n",
            "2022-09-02 18:30:58 (69.3 MB/s) - ‘cons_email_chapter_subscription.csv’ saved [25033709/25033709]\n",
            "\n"
          ]
        }
      ]
    },
    {
      "cell_type": "code",
      "source": [
        "#load data into data frames\n",
        "cons_df = spark.read.option(\"header\",\"true\").csv('/content/cons.csv')\n",
        "cons_email_df = spark.read.option(\"header\",\"true\").csv('/content/cons_email.csv')\n",
        "cons_email_chap_sub_df = spark.read.option(\"header\",\"true\").csv('/content/cons_email_chapter_subscription.csv')"
      ],
      "metadata": {
        "id": "sOuVpE0riyrS"
      },
      "execution_count": null,
      "outputs": []
    },
    {
      "cell_type": "markdown",
      "source": [
        "Construct new data frames to satisfy exercises.\n",
        "\n"
      ],
      "metadata": {
        "id": "4bXleqAKerlA"
      }
    },
    {
      "cell_type": "code",
      "source": [
        "cons_email_df.show()\n",
        "\n",
        "#construct new data frame \"people\""
      ],
      "metadata": {
        "colab": {
          "base_uri": "https://localhost:8080/"
        },
        "id": "KvF5O1lKi2F3",
        "outputId": "b9c58ebe-917e-48fd-9a3f-3c1f5b0209fa"
      },
      "execution_count": null,
      "outputs": [
        {
          "output_type": "stream",
          "name": "stdout",
          "text": [
            "+-------------+-------+------------------+----------+--------------------+--------------------+-----------+--------------------+--------------------+----------+-----------+--------------------+------------+-------------+------+----+\n",
            "|cons_email_id|cons_id|cons_email_type_id|is_primary|               email|canonical_local_part|     domain|   double_validation|           create_dt|create_app|create_user|         modified_dt|modified_app|modified_user|status|note|\n",
            "+-------------+-------+------------------+----------+--------------------+--------------------+-----------+--------------------+--------------------+----------+-----------+--------------------+------------+-------------+------+----+\n",
            "|            1| 548198|              3361|         1|xmartinez@vincent...|                null|  gmail.com|                null|Wed, 1994-01-26 2...|      4072|       9954|Sat, 2014-04-19 1...|        1990|         7595|     1|null|\n",
            "|            2| 491137|              2474|         1|  hmiller@haynes.biz|jqCyozTDojYuylQPTHfm|hotmail.com|                null|Thu, 1999-12-09 0...|      1600|       5716|Sat, 1984-07-14 0...|        4686|         3248|     1|null|\n",
            "|            3| 413429|              5175|         1|   aaron64@yahoo.com|FCBeBiVoqnnKDWjnllhN|  yahoo.com|kRLZexQEwYIMbwFNvQxg|Wed, 1992-11-18 1...|      7358|       2685|Sun, 1995-12-24 1...|        3857|         7405|     1|null|\n",
            "|            4| 347346|              4117|         1|wyattvincent@hotm...|                null|  gmail.com|zSbfmlqXimGyWVBUGdQg|Sat, 1983-11-26 1...|       881|       3444|Sun, 1975-01-19 1...|        8713|         7713|     1|null|\n",
            "|            5| 443000|              6781|         1|tspencer@hotmail.com|VaQIYlKcUkIywkKKEptD|  gmail.com|                null|Wed, 2000-11-15 1...|      5380|       5456|Sun, 1994-03-13 1...|         765|         8618|     1|null|\n",
            "|            6| 412213|               226|         1|   ogarcia@gmail.com|plEoepTGqWOhdZUZsEKK|  gmail.com|                null|Thu, 1984-03-08 1...|      3423|       4910|Mon, 1986-04-07 0...|          99|         4832|     1|null|\n",
            "|            7| 282118|              5477|         1|scott06@thompson....|txFZqAuoDzXhrrKJePGJ|  yahoo.com|                null|Tue, 1975-11-25 0...|      8112|        252|Mon, 1975-06-02 1...|        1924|         9055|     1|null|\n",
            "|            8| 624574|              5784|         1|allenrobert@yahoo...|tjaiAMmxqpBKiTgKvcfN|  gmail.com|                null|Sun, 1973-11-11 2...|      1901|       6427|Mon, 1995-07-10 0...|        2544|         6526|     1|null|\n",
            "|            9| 603436|              7790|         1|madeline69@mccart...|                null|hotmail.com|TTSshhSpgVPLzlrEBkjo|Mon, 1976-06-28 0...|      7418|       8577|Tue, 2001-07-24 1...|         741|         4342|     1|null|\n",
            "|           10| 185213|              5912|         1|bishopshannon@gma...|                null|  gmail.com|FAjeAoTZTNAikikCualt|Sun, 1988-08-07 1...|       960|       1269|Sat, 2013-06-22 2...|        1619|         1698|     1|null|\n",
            "|           11| 317872|              4986|         1|    egarza@johns.com|                null|  yahoo.com|qkNnWVTmtjdmRXBpSQTm|Tue, 1991-07-16 0...|      8184|       1261|Tue, 2013-03-19 1...|        9707|         1538|     0|null|\n",
            "|           12| 165638|              9056|         1|ygregory@castro-l...|                null|  yahoo.com|ULwFJTYtZQOhznkRfPrk|Wed, 1996-10-30 2...|      7170|       6476|Fri, 2006-08-11 1...|        4102|         1983|     1|null|\n",
            "|           13| 560926|              9938|         1|     lford@yahoo.com|uicAdKmiFfsSGYIjHfmA|  yahoo.com|XCAYjgZwJwnoLCYLJizh|Sun, 2017-01-29 2...|      1689|       5017|Wed, 1998-01-14 0...|        2858|         9497|     1|null|\n",
            "|           14|  59473|              3000|         1|    alex63@yahoo.com|                null|  yahoo.com|                null|Tue, 1991-12-17 0...|      5703|       2664|Fri, 1988-05-27 2...|        4301|         4403|     1|null|\n",
            "|           15| 434330|               361|         1|jessicajohnson@ho...|                null|  gmail.com|jbayhylxUuQjWTdveRsv|Mon, 1977-09-05 1...|       358|       4596|Fri, 2008-10-03 1...|        3431|         3571|     1|null|\n",
            "|           16| 478076|              3383|         1|martintaylor@yaho...|                null|  yahoo.com|                null|Sat, 2019-12-14 0...|      4568|       8955|Fri, 1995-07-21 1...|        7022|           45|     1|null|\n",
            "|           17| 611694|              6521|         1| ureeves@hotmail.com|OZkLwdCtVaFEUDihWqNi|  yahoo.com|                null|Sat, 2013-11-16 2...|      4949|         23|Sat, 2001-12-01 1...|        9107|         6264|     1|null|\n",
            "|           18| 169399|              3967|         1|davisryan@santiag...|oxQEFDWbWYMqbjUTEoLc|  gmail.com|                null|Mon, 2001-10-15 0...|      1148|       6254|Fri, 1984-03-09 2...|        8554|         1411|     1|null|\n",
            "|           19| 241427|              8954|         1|marissafranco@hot...|                null|  gmail.com|rgtVBAFLQzJwDKXyvPNJ|Mon, 1995-01-30 1...|      9588|       8102|Sun, 2012-06-24 1...|        6638|         1437|     1|null|\n",
            "|           20| 100407|                12|         1|melissa63@hotmail...|dURWQTNtjLCSCpQieZqS|  gmail.com|zSmLZMrizTBTmDfWUoXV|Sat, 1970-01-31 2...|      1753|       4830|Sun, 1994-09-25 2...|        7418|         2506|     1|null|\n",
            "+-------------+-------+------------------+----------+--------------------+--------------------+-----------+--------------------+--------------------+----------+-----------+--------------------+------------+-------------+------+----+\n",
            "only showing top 20 rows\n",
            "\n"
          ]
        }
      ]
    },
    {
      "cell_type": "code",
      "source": [
        "cons_df.show()"
      ],
      "metadata": {
        "colab": {
          "base_uri": "https://localhost:8080/"
        },
        "id": "MDDzXK2ve-FY",
        "outputId": "6dac8ad2-fe1c-4b56-c118-15b62fbda487"
      },
      "execution_count": null,
      "outputs": [
        {
          "output_type": "stream",
          "name": "stdout",
          "text": [
            "+-------+------+---------+----------+--------+------+--------------------+------+---------------+--------------------+--------------------+--------------------+----------------+--------+--------------------+------+----------+------------+---------+--------------------------+---------------+--------------------+----------+-----------+--------------------+------------+-------------+------+--------------------+\n",
            "|cons_id|prefix|firstname|middlename|lastname|suffix|          salutation|gender|       birth_dt|               title|            employer|          occupation|          income|  source|           subsource|userid|  password|is_validated|is_banned|change_password_next_login|consent_type_id|           create_dt|create_app|create_user|         modified_dt|modified_app|modified_user|status|                note|\n",
            "+-------+------+---------+----------+--------+------+--------------------+------+---------------+--------------------+--------------------+--------------------+----------------+--------+--------------------+------+----------+------------+---------+--------------------------+---------------+--------------------+----------+-----------+--------------------+------------+-------------+------+--------------------+\n",
            "|      1|  null|     null|       Lee|    null|    MD|                null|     E|           null|vSkSIzEQJdXnqeTTTXSG|                null|                null|29716063420.7735|  google|                null|  3663|_kXcXaoK7i|           1|        0|                         0|           5958|Fri, 1983-08-26 0...|      1484|       6162|Sun, 2015-12-27 0...|        4022|         6349|     1|                null|\n",
            "|      2|  null|     null|      null|    null|    II|boFqBKgLlSgEZsFrgCZd|     E|Mon, 2004-11-15|                null|                null|                null|        671.7468|facebook|pRzBAZSGNScwCyreCEYr|  7125|Ll3ZUxnh*9|           0|        0|                         1|           4236|Mon, 1979-03-05 2...|      4176|       5476|Tue, 1989-06-20 1...|        9010|         5698|     1|                null|\n",
            "|      3|  null|     null|     David|    King|  null|                null|     D|Fri, 1994-04-08|bxGxufoNzpKvjwNIxgRj|iPUtgXtqIBEaxQxaMMsr|                null|            null|    null|UAWXnALxxBXmwbPibFdw|  5202|&@sU8IaE+L|           1|        0|                         1|           1263|Fri, 2008-08-22 1...|      4702|       8239|Fri, 2020-06-05 1...|        8837|         1175|     1|                null|\n",
            "|      4|   Ms.|     Mark|     Gregg|    null|  null|                null|     J|           null|                null|pFxPMIlwpLmWhylhVPlq|                null| 8233324476.5424|  google|                null|  1591|5vVPwqxK)g|           0|        0|                         0|            949|Sun, 1984-04-29 1...|      7096|       7875|Tue, 2012-01-31 0...|        7529|         3984|     1|                null|\n",
            "|      5|  null|     null|     Logan|    null|   DDS|ArvPJuEozHPaqbirovMi|     D|Sun, 2008-08-10|kXKlKCyCBoXUBVejPOVO|                null|QpESbZrLQlRIjKabyAKb|            null|    null|                null|  4578|S%3cXL#sKt|           1|        0|                         0|           7126|Thu, 2007-07-19 1...|       706|       5727|Tue, 1971-04-27 0...|        9356|         6062|     1|                null|\n",
            "|      6|  null|     null|      null|    Holt|  null|                null|     K|Tue, 2003-07-15|DBEfLmqhahjEXOXjLHpF|                null|                null|    7162584445.0|  google|                null|  7499|4pBOiQ1d*&|           0|        0|                         1|           9079|Sat, 2014-02-15 2...|      7328|       6425|Fri, 1999-11-12 0...|        2118|         2494|     0|productize custom...|\n",
            "|      7|   Mr.|Alexandra|     Brian| Baldwin|   DVM|                null|     X|           null|                null|nqVlCruJCtQJOMNAetDO|VJzgqxcwQYtaDYiQpylG|            null|    null|                null|  5522|@75bJXu_n6|           1|        0|                         1|           5809|Thu, 1979-03-01 1...|      9610|       6785|Wed, 2019-03-13 0...|        1680|         1864|     1|                null|\n",
            "|      8|  null|  Charles|    Teresa|  Glover|   PhD|                null|     O|Mon, 1977-04-04|                null|                null|kVWxQOxTYRayojFNiAVP|   70927.8168621| twitter|                null|  3665|vV9rNrsy0@|           1|        0|                         0|           1416|Tue, 2002-07-30 2...|      8257|        542|Sat, 1983-07-16 1...|        1429|         3195|     1|evolve real-time ...|\n",
            "|      9|  null|    Holly|     David|    null|  null|                null|     K|           null|                null|                null|                null|442473.934125054| twitter|PVZjgesmJIcYhZEbSFUF|  5932|%+krdsEV2l|           0|        0|                         0|           5614|Thu, 2019-08-29 1...|      4561|       1718|Sun, 2009-12-20 1...|        3368|         1975|     1|                null|\n",
            "|     10|  null|     Chad|      null|    null|   DVM|YupmMCKEGDZOxnqeIjha|  null|           null|                null|                null|                null|            null| twitter|KdfaUuYePYzcJhOegDEg|  1232|!EEfPV@to6|           0|        0|                         0|           7669|Tue, 1987-02-17 1...|      8761|       1288|Sat, 2016-03-19 1...|        1405|         5181|     1|                null|\n",
            "|     11|  null|Gabriella|     Steve|Caldwell|    MD|                null|     E|           null|                null|                null|RHvFljrbRvuCSBNeljoN|            null|  google|ZXCmOCagIKoSLqnIwlgO|  9337|Sq9t6qUx@e|           0|        0|                         0|           6820|Thu, 2018-04-19 1...|      4638|       2086|Fri, 1993-06-25 2...|        7266|          380|     1|                null|\n",
            "|     12|  null|     null|   Anthony|    null|   DVM|mIYkeLLtYfwmzYmHyjro|     G|Fri, 1977-02-25|POJTYCsTDzZREofUXvje|GoxSFklWNsTjLmVeIuAC|epLqLUwuFhwTEoWQVHSp|            null| organic|                null|  8182|ag*0AWxkKx|           1|        0|                         0|           7071|Sun, 2004-04-11 1...|      7081|       6926|Mon, 2018-07-16 0...|        9807|          888|     0|                null|\n",
            "|     13|   Dr.|     null|     Shane|    null|   DVM|OwMBJcSUxogZoZAreJmq|  null|Tue, 1971-04-13|VPIEdzWqwuRLCSrlHgjW|iwllyiQkwfQjixEAGIlV|qhWiDaiecAbJQptiXpDT|    1570063934.3|    null|GQoJuWymHJDxSDGggPDV|  1001|!4shKVd2*y|           0|        0|                         0|           4913|Sat, 1979-07-21 0...|      2246|       2167|Fri, 1994-03-11 1...|        2436|         4745|     1|                null|\n",
            "|     14|  null|     null|    Dennis|Erickson|  null|dPPHVfYvTdEMXFEoHBfa|  null|Wed, 2003-08-27|                null|KmjmgTNiXFcQLCcTKiuZ|                null|       701.98916|    null|ZqEaJtFqNsSYseswTGMR|   515|0@CJV5dy&4|           1|        0|                         0|           5662|Tue, 1986-03-18 1...|      6521|       4024|Sat, 1971-01-23 0...|        2837|         2988|     1|                null|\n",
            "|     15|  null|  Patrick|      null|    null|  null|                null|  null|           null|amTfCjmsgwmbkMwoPYEb|ZCedOEcyFubKMgHsWsQL|                null|            null|    null|TGlJQinWxmkfwgKakXHl|  1048|r8ZO^x#9_V|           0|        0|                         0|           9169|Wed, 2015-11-04 1...|       311|       1831|Wed, 1980-03-05 0...|        8299|         8360|     1|                null|\n",
            "|     16|  null|     null|      null|    null|    MD|qKYPnxZHfaSMDanoNwsk|     I|           null|HXsoVurXznqnYqYaUzVk|                null|                null|19096851081363.0|    null|                null|  2819|&RKgXwlT38|           1|        0|                         1|           4400|Mon, 1998-08-31 2...|      4388|        249|Mon, 2006-03-06 1...|        3431|         4717|     1|                null|\n",
            "|     17|  null|     null|      null|    null|    MD|                null|  null|           null|NdUvcYJjZLjybDFtLUEY|ZDSyqTSdGcITXmmicimk|                null|            null|    null|xnkzYgjnwXoFjdlkhjnl|  1011|i8L0SUMx*q|           0|        0|                         1|           5225|Thu, 1986-05-08 0...|      7291|       7474|Sat, 2018-09-15 1...|        3699|         6022|     1|                null|\n",
            "|     18|  null|   Daniel|      John|    null|   Jr.|muLMAqEOtqrtCoYlxwHy|     T|           null|                null|                null|                null|            null|    null|                null|  9700|UD7yAARh8!|           1|        0|                         0|           1029|Wed, 1982-12-29 1...|      1221|       7563|Sat, 1977-12-10 1...|         310|         3575|     1|                null|\n",
            "|     19|  null|  Michael|     Randy|    null|  null|UVolNtaMjBhXPhlqJpmt|     X|Sun, 1999-04-25|zRNSweTnqtszElAkFyGh|                null|VxmmucPwWHNyBcyTclMN|            null|    null|                null|  2436|(X2Mg7uvOd|           1|        0|                         0|            181|Mon, 2001-07-02 0...|      9235|       5682|Mon, 1981-10-19 1...|        2818|         5380|     1|                null|\n",
            "|     20|   Mr.|     null|      Lori|Alvarado|  null|CjBmLfplUHNfDTQBYtsa|  null|           null|QuLpuvlCQwchCslwzyVS|                null|                null|    928906489.89|  google|                null|  7463|%65Lspjct3|           1|        0|                         0|           5322|Mon, 2011-03-21 1...|      5304|       1924|Sat, 1981-12-05 0...|         831|          996|     1|                null|\n",
            "+-------+------+---------+----------+--------+------+--------------------+------+---------------+--------------------+--------------------+--------------------+----------------+--------+--------------------+------+----------+------------+---------+--------------------------+---------------+--------------------+----------+-----------+--------------------+------------+-------------+------+--------------------+\n",
            "only showing top 20 rows\n",
            "\n"
          ]
        }
      ]
    },
    {
      "cell_type": "code",
      "source": [
        "cons_email_chap_sub_df.show()"
      ],
      "metadata": {
        "colab": {
          "base_uri": "https://localhost:8080/"
        },
        "id": "fz_zEqACe-Ld",
        "outputId": "334c46e4-a6bc-48f9-b72d-690d3ad1c542"
      },
      "execution_count": null,
      "outputs": [
        {
          "output_type": "stream",
          "name": "stdout",
          "text": [
            "+----------------------------------+-------------+----------+-------+--------------------+--------------------+\n",
            "|cons_email_chapter_subscription_id|cons_email_id|chapter_id|isunsub|            unsub_dt|         modified_dt|\n",
            "+----------------------------------+-------------+----------+-------+--------------------+--------------------+\n",
            "|                                 1|       332188|         1|      1|Sat, 1971-06-12 1...|Thu, 1990-06-28 1...|\n",
            "|                                 2|       536526|         1|      1|Wed, 2006-07-12 0...|Thu, 1979-09-20 0...|\n",
            "|                                 3|       134711|         1|      1|Tue, 1987-01-06 1...|Sun, 1974-03-03 1...|\n",
            "|                                 4|       660345|         1|      1|Sat, 2016-08-06 1...|Wed, 1995-09-13 2...|\n",
            "|                                 5|       184268|         1|      1|Sun, 2000-05-28 0...|Sat, 1983-12-10 0...|\n",
            "|                                 6|       621735|         1|      1|Wed, 2009-12-09 1...|Sat, 1990-09-01 0...|\n",
            "|                                 7|       449159|         1|      1|Fri, 2001-02-16 0...|Fri, 2018-04-27 1...|\n",
            "|                                 8|       684697|         1|      1|Wed, 1988-06-29 0...|Mon, 1978-06-12 1...|\n",
            "|                                 9|       247669|         1|      1|Tue, 2003-07-08 2...|Wed, 1972-08-09 0...|\n",
            "|                                10|       298884|         1|      1|Sat, 1986-09-20 1...|Wed, 1974-09-25 0...|\n",
            "|                                11|       117253|         1|      1|Fri, 1971-06-18 1...|Sat, 2008-03-01 2...|\n",
            "|                                12|       237398|         1|      1|Fri, 2014-09-19 0...|Sun, 1993-01-31 0...|\n",
            "|                                13|       559072|         1|      1|Thu, 2005-08-11 0...|Thu, 2007-09-06 1...|\n",
            "|                                14|       108069|         1|      1|Tue, 1995-06-20 0...|Thu, 2006-04-13 0...|\n",
            "|                                15|       549500|         1|      1|Mon, 1980-04-28 2...|Mon, 1974-04-29 0...|\n",
            "|                                16|       396990|         1|      1|Thu, 1972-03-09 2...|Sun, 2017-05-28 0...|\n",
            "|                                17|       175961|         1|      1|Sat, 1997-12-27 2...|Fri, 1998-07-03 0...|\n",
            "|                                18|       159485|         1|      1|Wed, 1991-02-27 1...|Sat, 1973-11-17 1...|\n",
            "|                                19|       378031|         1|      1|Thu, 1988-02-18 0...|Wed, 1975-01-15 2...|\n",
            "|                                20|       636604|         1|      1|Sun, 2015-08-16 2...|Tue, 1991-07-09 0...|\n",
            "+----------------------------------+-------------+----------+-------+--------------------+--------------------+\n",
            "only showing top 20 rows\n",
            "\n"
          ]
        }
      ]
    },
    {
      "cell_type": "code",
      "source": [
        "#drop duplicate fields before joining\n",
        "cons_email_df = cons_email_df.drop(\"create_dt\",\"modified_dt\")\n",
        "cons_email_chap_sub_df = cons_email_chap_sub_df.drop(\"modified_dt\")\n",
        "\n",
        "#join cons and cons_email on cons_id\n",
        "people_df = cons_df.join(cons_email_df, cons_df.cons_id ==  cons_email_df.cons_id,\"inner\")\n",
        "\n",
        "#join resulting table with cons_email_chap_sub on con_email_id\n",
        "people_df = people_df.join(cons_email_chap_sub_df, people_df.cons_email_id ==  cons_email_chap_sub_df.cons_email_id,\"inner\")\n",
        "\n",
        "#drop all unecessary fields to create \"people\" data frame\n",
        "people_df = people_df.drop(\"cons_id\",\"prefix\",\"firstname\",\"middlename\",\"lastname\",\"suffix\",\"salutation\",\"gender\",\"birth_dt\",\"title\",\"employer\",\"occupation\",\n",
        "                           \"income\",\"subsource\",\"userid\",\"password\",\"is_validated\",\"is_banned\",\"change_password_next_login\",\"consent_type_id\",\"create_app\",\n",
        "                           \"create_user\",\"modified_app\",\"modified_user\",\"status\",\"note\",\"cons_email_id\",\"cons_email_type_id\",\"is_primary\",\"canonical_local_part\",\n",
        "                           \"domain\",\"double_validation\",\"create_app\",\"create_user\",\"modified_app\",\"modified_user\",\"status\",\n",
        "                           \"cons_email_chapter_subscription_id\",\"cons_email_id\",\"chapter_id\",\"unsub_dt\")\n",
        "\n",
        "people_df = people_df.select(col(\"create_dt\"),to_date(col(\"create_dt\"),\"E yyyy-MM-DD HH:mm:ss.SSSS\").alias(\"created_dt\"))\n",
        "\n",
        "#rename columns to match exercise\n",
        "#people_df = people_df.withColumnRenamed(\"isunsub\",\"is_unsub\")\n",
        "#people_df = people_df.withColumnRenamed(\"source\",\"code\")\n",
        "#people_df = people_df.withColumnRenamed(\"modified_dt\",\"updated_dt\")\n",
        "#people_df = people_df.withColumnRenamed(\"create_dt\",\"created_dt\")\n",
        "\n",
        "#reorder to match exercise\n",
        "#people_df = people_df.select(\"email\",\"code\",\"is_unsub\",\"created_dt\",\"updated_dt\")\n",
        "\n",
        "#change schema to match exercise\n",
        "#people_df = people_df.withColumn(\"created_dt\", \n",
        "#                                  people_df[\"created_dt\"]\n",
        "#                                  .cast('date'))\n",
        "#people_df = people_df.withColumn(\"updated_dt\", \n",
        "#                                  people_df[\"updated_dt\"]\n",
        "#                                  .cast('date'))\n",
        "#people_df = people_df.withColumn(\"is_unsub\", \n",
        "#                                  people_df[\"is_unsub\"]\n",
        "#                                  .cast('boolean'))\n",
        "\n",
        "#save \"people\" as a .csv\n",
        "#people_df.write.csv(\"/content/people.csv\")"
      ],
      "metadata": {
        "id": "0LYvNRL6jKIi"
      },
      "execution_count": null,
      "outputs": []
    },
    {
      "cell_type": "code",
      "source": [
        "people_df.show()"
      ],
      "metadata": {
        "colab": {
          "base_uri": "https://localhost:8080/",
          "height": 354
        },
        "id": "51Lq9_bA7ho9",
        "outputId": "19a26a41-6db4-4ab3-fa58-6df75f68c6b5"
      },
      "execution_count": null,
      "outputs": [
        {
          "output_type": "error",
          "ename": "SparkUpgradeException",
          "evalue": "ignored",
          "traceback": [
            "\u001b[0;31m---------------------------------------------------------------------------\u001b[0m",
            "\u001b[0;31mSparkUpgradeException\u001b[0m                     Traceback (most recent call last)",
            "\u001b[0;32m<ipython-input-125-1970fc0289d3>\u001b[0m in \u001b[0;36m<module>\u001b[0;34m\u001b[0m\n\u001b[0;32m----> 1\u001b[0;31m \u001b[0mpeople_df\u001b[0m\u001b[0;34m.\u001b[0m\u001b[0mshow\u001b[0m\u001b[0;34m(\u001b[0m\u001b[0;34m)\u001b[0m\u001b[0;34m\u001b[0m\u001b[0;34m\u001b[0m\u001b[0m\n\u001b[0m",
            "\u001b[0;32m/usr/local/lib/python3.7/dist-packages/pyspark/sql/dataframe.py\u001b[0m in \u001b[0;36mshow\u001b[0;34m(self, n, truncate, vertical)\u001b[0m\n\u001b[1;32m    604\u001b[0m \u001b[0;34m\u001b[0m\u001b[0m\n\u001b[1;32m    605\u001b[0m         \u001b[0;32mif\u001b[0m \u001b[0misinstance\u001b[0m\u001b[0;34m(\u001b[0m\u001b[0mtruncate\u001b[0m\u001b[0;34m,\u001b[0m \u001b[0mbool\u001b[0m\u001b[0;34m)\u001b[0m \u001b[0;32mand\u001b[0m \u001b[0mtruncate\u001b[0m\u001b[0;34m:\u001b[0m\u001b[0;34m\u001b[0m\u001b[0;34m\u001b[0m\u001b[0m\n\u001b[0;32m--> 606\u001b[0;31m             \u001b[0mprint\u001b[0m\u001b[0;34m(\u001b[0m\u001b[0mself\u001b[0m\u001b[0;34m.\u001b[0m\u001b[0m_jdf\u001b[0m\u001b[0;34m.\u001b[0m\u001b[0mshowString\u001b[0m\u001b[0;34m(\u001b[0m\u001b[0mn\u001b[0m\u001b[0;34m,\u001b[0m \u001b[0;36m20\u001b[0m\u001b[0;34m,\u001b[0m \u001b[0mvertical\u001b[0m\u001b[0;34m)\u001b[0m\u001b[0;34m)\u001b[0m\u001b[0;34m\u001b[0m\u001b[0;34m\u001b[0m\u001b[0m\n\u001b[0m\u001b[1;32m    607\u001b[0m         \u001b[0;32melse\u001b[0m\u001b[0;34m:\u001b[0m\u001b[0;34m\u001b[0m\u001b[0;34m\u001b[0m\u001b[0m\n\u001b[1;32m    608\u001b[0m             \u001b[0;32mtry\u001b[0m\u001b[0;34m:\u001b[0m\u001b[0;34m\u001b[0m\u001b[0;34m\u001b[0m\u001b[0m\n",
            "\u001b[0;32m/usr/local/lib/python3.7/dist-packages/py4j/java_gateway.py\u001b[0m in \u001b[0;36m__call__\u001b[0;34m(self, *args)\u001b[0m\n\u001b[1;32m   1320\u001b[0m         \u001b[0manswer\u001b[0m \u001b[0;34m=\u001b[0m \u001b[0mself\u001b[0m\u001b[0;34m.\u001b[0m\u001b[0mgateway_client\u001b[0m\u001b[0;34m.\u001b[0m\u001b[0msend_command\u001b[0m\u001b[0;34m(\u001b[0m\u001b[0mcommand\u001b[0m\u001b[0;34m)\u001b[0m\u001b[0;34m\u001b[0m\u001b[0;34m\u001b[0m\u001b[0m\n\u001b[1;32m   1321\u001b[0m         return_value = get_return_value(\n\u001b[0;32m-> 1322\u001b[0;31m             answer, self.gateway_client, self.target_id, self.name)\n\u001b[0m\u001b[1;32m   1323\u001b[0m \u001b[0;34m\u001b[0m\u001b[0m\n\u001b[1;32m   1324\u001b[0m         \u001b[0;32mfor\u001b[0m \u001b[0mtemp_arg\u001b[0m \u001b[0;32min\u001b[0m \u001b[0mtemp_args\u001b[0m\u001b[0;34m:\u001b[0m\u001b[0;34m\u001b[0m\u001b[0;34m\u001b[0m\u001b[0m\n",
            "\u001b[0;32m/usr/local/lib/python3.7/dist-packages/pyspark/sql/utils.py\u001b[0m in \u001b[0;36mdeco\u001b[0;34m(*a, **kw)\u001b[0m\n\u001b[1;32m    194\u001b[0m                 \u001b[0;31m# Hide where the exception came from that shows a non-Pythonic\u001b[0m\u001b[0;34m\u001b[0m\u001b[0;34m\u001b[0m\u001b[0;34m\u001b[0m\u001b[0m\n\u001b[1;32m    195\u001b[0m                 \u001b[0;31m# JVM exception message.\u001b[0m\u001b[0;34m\u001b[0m\u001b[0;34m\u001b[0m\u001b[0;34m\u001b[0m\u001b[0m\n\u001b[0;32m--> 196\u001b[0;31m                 \u001b[0;32mraise\u001b[0m \u001b[0mconverted\u001b[0m \u001b[0;32mfrom\u001b[0m \u001b[0;32mNone\u001b[0m\u001b[0;34m\u001b[0m\u001b[0;34m\u001b[0m\u001b[0m\n\u001b[0m\u001b[1;32m    197\u001b[0m             \u001b[0;32melse\u001b[0m\u001b[0;34m:\u001b[0m\u001b[0;34m\u001b[0m\u001b[0;34m\u001b[0m\u001b[0m\n\u001b[1;32m    198\u001b[0m                 \u001b[0;32mraise\u001b[0m\u001b[0;34m\u001b[0m\u001b[0;34m\u001b[0m\u001b[0m\n",
            "\u001b[0;31mSparkUpgradeException\u001b[0m: You may get a different result due to the upgrading to Spark >= 3.0: Fail to recognize 'E yyyy-MM-DD HH:mm:ss.SSSS' pattern in the DateTimeFormatter. 1) You can set spark.sql.legacy.timeParserPolicy to LEGACY to restore the behavior before Spark 3.0. 2) You can form a valid datetime pattern with the guide from https://spark.apache.org/docs/latest/sql-ref-datetime-pattern.html"
          ]
        }
      ]
    },
    {
      "cell_type": "code",
      "source": [
        "#create \"acquisition_facts\" by retaining created_dt and renaming it \"acquisition date\" and grouping \n",
        "#by date to see how many acquisition were made on that date, and naming that column \"acquisitions\"\n",
        "from pyspark.sql.functions import dayofmonth, count\n",
        "\n",
        "acquisition_facts_df = (people_df.groupBy(dayofmonth(\"created_dt\").alias(\"acquisition_date\")).count(\"created_dt\").alias(\"acquisitions\"))\n",
        "\n",
        "#save \"acquisition\" as a .csv\n",
        "#acquisition_facts_df.write.csv(\"/content/acquisition.csv\")"
      ],
      "metadata": {
        "colab": {
          "base_uri": "https://localhost:8080/",
          "height": 205
        },
        "id": "M1dpUO-IwWsR",
        "outputId": "8cacbb5f-0fb8-4f82-e8ad-448ffad2b50b"
      },
      "execution_count": null,
      "outputs": [
        {
          "output_type": "error",
          "ename": "TypeError",
          "evalue": "ignored",
          "traceback": [
            "\u001b[0;31m---------------------------------------------------------------------------\u001b[0m",
            "\u001b[0;31mTypeError\u001b[0m                                 Traceback (most recent call last)",
            "\u001b[0;32m<ipython-input-86-650ced0fd747>\u001b[0m in \u001b[0;36m<module>\u001b[0;34m\u001b[0m\n\u001b[1;32m      3\u001b[0m \u001b[0;32mfrom\u001b[0m \u001b[0mpyspark\u001b[0m\u001b[0;34m.\u001b[0m\u001b[0msql\u001b[0m\u001b[0;34m.\u001b[0m\u001b[0mfunctions\u001b[0m \u001b[0;32mimport\u001b[0m \u001b[0mdayofmonth\u001b[0m\u001b[0;34m,\u001b[0m \u001b[0mcount\u001b[0m\u001b[0;34m\u001b[0m\u001b[0;34m\u001b[0m\u001b[0m\n\u001b[1;32m      4\u001b[0m \u001b[0;34m\u001b[0m\u001b[0m\n\u001b[0;32m----> 5\u001b[0;31m \u001b[0macquisition_facts_df\u001b[0m \u001b[0;34m=\u001b[0m \u001b[0;34m(\u001b[0m\u001b[0mpeople_df\u001b[0m\u001b[0;34m.\u001b[0m\u001b[0mgroupBy\u001b[0m\u001b[0;34m(\u001b[0m\u001b[0mdayofmonth\u001b[0m\u001b[0;34m(\u001b[0m\u001b[0;34m\"created_dt\"\u001b[0m\u001b[0;34m)\u001b[0m\u001b[0;34m.\u001b[0m\u001b[0malias\u001b[0m\u001b[0;34m(\u001b[0m\u001b[0;34m\"acquisition_date\"\u001b[0m\u001b[0;34m)\u001b[0m\u001b[0;34m)\u001b[0m\u001b[0;34m.\u001b[0m\u001b[0mcount\u001b[0m\u001b[0;34m(\u001b[0m\u001b[0;34m\"created_dt\"\u001b[0m\u001b[0;34m)\u001b[0m\u001b[0;34m.\u001b[0m\u001b[0malias\u001b[0m\u001b[0;34m(\u001b[0m\u001b[0;34m\"acquisitions\"\u001b[0m\u001b[0;34m)\u001b[0m\u001b[0;34m)\u001b[0m\u001b[0;34m\u001b[0m\u001b[0;34m\u001b[0m\u001b[0m\n\u001b[0m",
            "\u001b[0;31mTypeError\u001b[0m: _api() takes 1 positional argument but 2 were given"
          ]
        }
      ]
    },
    {
      "cell_type": "code",
      "source": [],
      "metadata": {
        "id": "6tsQOuYzIUdg"
      },
      "execution_count": null,
      "outputs": []
    },
    {
      "cell_type": "markdown",
      "source": [],
      "metadata": {
        "id": "X4E7RKfp7pyd"
      }
    }
  ]
}